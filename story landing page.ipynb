{
 "cells": [
  {
   "cell_type": "markdown",
   "metadata": {},
   "source": [
    "# Visual Analysis of Billionaire Horoscope - Take Forbes Billionaire List Top 300 as an example"
   ]
  },
  {
   "cell_type": "markdown",
   "metadata": {},
   "source": [
    "- ## The story of horoscope on Forbes' list\n",
    "- ## Team Echo"
   ]
  },
  {
   "cell_type": "markdown",
   "metadata": {},
   "source": [
    "Wealth is a popular topic all the time. Ordinary people want to acquire a great amount of wealth, but successful people are few. The accumulation of wealth requires many factors such as efforts, wisdom, opportunities... However, success can hardly be duplicated. Even if you have the same efforts, wisdom, opportunities with Bill Gates, it does not mean that you can achieve success like his. As Warren Buffett said before, “I succeeded only because I was a lucky sperm”. Wealth is closely associated with luck. Therefore, something superstitious could be artificially connected with wealth, like Chinese zodiac and constellation. "
   ]
  },
  {
   "cell_type": "markdown",
   "metadata": {},
   "source": [
    "**However, different “experts” have different opinions of constellations’ luck in making money.** For example, a website about analyzing fortune says that Sagittarius has best luck in making money in 2018, but another similar website regards Cancer as the most lucky one in this year. Therefore, the problem comes. ***Is there a certain relationship between constellation and wealth?***  **We try to find the answer by acquiring and analyzing the data of top 300 billionaires on Forbes list.**"
   ]
  },
  {
   "cell_type": "markdown",
   "metadata": {},
   "source": [
    "**We are not the first one curious about this question.** For instance, the Times published the constellation of multimillionaires in Britain in April 1999. Of the more than 1,000 names on the list, Gemini and Taurus were known to make the most money. Besides, a KOL in P2P field, “ijrjia” said that Scorpio had the best wealth fortune by collecting data of Chinese billionaires. As there is no acknowledged conclusion, we would like to make a research on the basis of Forbes list. To be more specific, we come up with three research questions. \n",
    "- Which constellation has the most number of billionaires? \n",
    "- Which constellation is expected to have more wealth? \n",
    "- What is the relationship between the type of constellation and the ranking of billionaires? "
   ]
  },
  {
   "cell_type": "markdown",
   "metadata": {},
   "source": [
    "Generally speaking, the **method** of our research was data collection population targeted for TOP300 billionaires on Forbes World's Billionaires 2018. \n",
    "- On the aspect of variables, the independent variables were the constellation and type of billionaires and the dependent variables are wealth value and billionaires‘ rank. \n",
    "- On the aspect of data source, we chose Forbes China website to collect billionaires’ names and wealth volume, and we also used Wikipedia to search their birthday in order to find out their constellation. The reason why we chose Wikipedia was because it is well formed and sorted, and also had better data integrity than Baidu Baike and MBALIB. "
   ]
  },
  {
   "cell_type": "markdown",
   "metadata": {},
   "source": [
    "In the procedure of data collection, we had two steps. \n",
    "- Firstly, we scraped data on Forbes China website by BeautifulSoup and store them into pandas. The data was presented in tabular form, and we acquire dour dependent variables including name, wealth rank, and wealth value. \n",
    "- Secondly, we got the birth information on Wikipedia. "
   ]
  }
 ],
 "metadata": {
  "kernelspec": {
   "display_name": "Python 3",
   "language": "python",
   "name": "python3"
  },
  "language_info": {
   "codemirror_mode": {
    "name": "ipython",
    "version": 3
   },
   "file_extension": ".py",
   "mimetype": "text/x-python",
   "name": "python",
   "nbconvert_exporter": "python",
   "pygments_lexer": "ipython3",
   "version": "3.7.0"
  }
 },
 "nbformat": 4,
 "nbformat_minor": 2
}
