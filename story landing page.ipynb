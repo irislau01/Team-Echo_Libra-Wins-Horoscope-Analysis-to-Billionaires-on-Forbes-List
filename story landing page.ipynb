{
 "cells": [
  {
   "cell_type": "markdown",
   "metadata": {},
   "source": [
    "# Team Echo_Libra Wins? Horoscope Analysis to Billionaires on Forbes’ List"
   ]
  },
  {
   "cell_type": "markdown",
   "metadata": {},
   "source": [
    "## 1. Introduction"
   ]
  },
  {
   "cell_type": "markdown",
   "metadata": {},
   "source": [
    "### Wealth is a popular topic all the time. Ordinary people want to acquire a great amount of wealth, but successful people are few. The accumulation of wealth requires many factors such as efforts, wisdom, opportunities... However, success can hardly be duplicated. Even if you have the same efforts, wisdom, opportunities with Bill Gates, it does not mean that you can achieve success like his. As Warren Buffett said before, “I succeeded only because I was a lucky sperm”. Wealth is closely associated with luck. Therefore, something superstitious could be artificially connected with wealth, like Chinese zodiac and constellation. However, different “experts” have different opinions of constellations’ luck in making money. For example, a website about analyzing fortune says that Sagittarius has best luck in making money in 2018, but another similar website regards Cancer as the most lucky one in this year. Therefore, the problem comes. Is there a certain relationship between constellation and wealth? We try to find the answer by acquiring and analyzing the data of top 300 billionaires on Forbes list."
   ]
  },
  {
   "cell_type": "markdown",
   "metadata": {},
   "source": [
    "## 2. Other Work and Our RQs"
   ]
  },
  {
   "cell_type": "markdown",
   "metadata": {},
   "source": [
    "### We are not the first one curious about this question. For instance, the Times published the constellation of multimillionaires in Britain in April 1999. Of the more than 1,000 names on the list, Gemini and Taurus were known to make the most money. Besides, a KOL in P2P field, “ijrjia” said that Scorpio had the best wealth fortune by collecting data of Chinese billionaires. As there is no acknowledged conclusion, we would like to make a research on the basis of Forbes list. To be more specific, we come up with three research questions. Which constellation has the most number of billionaires? Which constellation is expected to have more wealth? What is the relationship between the type of constellation and the ranking of billionaires? "
   ]
  },
  {
   "cell_type": "markdown",
   "metadata": {},
   "source": [
    "## 3. Method"
   ]
  },
  {
   "cell_type": "markdown",
   "metadata": {},
   "source": [
    "### Generally speaking, the method of our research was data collection population targeted for TOP300 billionaires on Forbes World's Billionaires 2018. On the aspect of variables, the independent variables were the constellation and type of billionaires and the dependent variables are wealth value and billionaires‘ rank. On the aspect of data source, we chose Forbes China website to collect billionaires’ names and wealth volume, and we also used Wikipedia to search their birthday in order to find out their constellation. The reason why we chose Wikipedia was because it is well formed and sorted, and also had better data integrity than Baidu Baike and MBALIB. "
   ]
  },
  {
   "cell_type": "markdown",
   "metadata": {},
   "source": [
    "### In the procedure of data collection, we had two steps. Firstly, we scraped data on Forbes China website by BeautifulSoup and store them into pandas. The data was presented in tabular form, and we acquire dour dependent variables including name, wealth rank, and wealth value. Secondly, we got the birth information on Wikipedia. But before this step, we must clean the nameless because there were lots of noise like “& family” in the name list. Then we used “‘https://en.wikipedia.org/wiki/'+ name” to get the link for each Wikipedia page. However, there was a problem that how to accurately position data. Because not all our objective data was in the same place, we could not use selector or XPath. Fortunately, we found that Wiki organizes text by the same HTML codes, “span class=‘bady’”. After we got all “bday” data, we found that there were no “bday” for some names we searched. The reasons may be there were two names at the same time as they were business partners or some names were too normal so Wiki could not directly go to the page we wanted. Then we wanted to find all empty set and name it “null”, so we used “len” function to determine if “bday” existed. "
   ]
  },
  {
   "cell_type": "markdown",
   "metadata": {},
   "source": [
    "### After we prepared all data, we came to data processing step. Firstly, with some references, we loop the list of birthday to get the constellation. The key point was taking advantages of splitting date of two adjacent constellations. In debug process, we had to remove null values, split DataFrame into “month” and “date” columns, and convert float64 type into int32 type. Finally, we got 194 valid samples in top 300 list. "
   ]
  },
  {
   "cell_type": "markdown",
   "metadata": {},
   "source": [
    "### All in all, we planned to scrap top 300 billionaires on Forbes and their birthday/constellations. However, only 194 of them are valid. We also scraped billion's wealth value. Jeff Bezos had 1120 billion dollars, ranking at first. Massimiliana Landini Aleotti had 5.9 billion dollars, ranking at 296 on Forbes. He was our last valid sample. Taurus billionaires possessed most of  wealth, 3827 billion dollars ranking at first. Sagittarius only possessed 745 billion dollars ranking at bottom. "
   ]
  },
  {
   "cell_type": "markdown",
   "metadata": {},
   "source": [
    "## 4. Result"
   ]
  },
  {
   "cell_type": "markdown",
   "metadata": {},
   "source": [
    "### From our data we can see number of billionaires distribution of 12 constellations is general average. However, the data still has some fluctuation: Libra has 25 billionaires which is more than 3 times of Sagittarius’ . This may illustrate that Sagittarius’ ability to make profit is lower than other constellations. And this may be also due to our sample number limited. "
   ]
  },
  {
   "cell_type": "markdown",
   "metadata": {},
   "source": [
    "### According to all valid samples, though Libra has the largest number of billionaires, most billionaires rank behind 48th , therefore their total wealth value ranks only 3rd. Besides, we can see Taurus is the top one in both rankings of top 48 and 96, therefore it is reasonable that Taurus has largest wealth value among all constellations."
   ]
  },
  {
   "cell_type": "markdown",
   "metadata": {},
   "source": [
    "### Although from these data we can see that Libra, Taurus, Aquarius and Pisces have biggest number of billionaires and Taurus, Scorpio, Libra and Aries possess most wealth value. But we still can not conclude that there do exist links between constellation and number of billionaires.  Here is our limation:\n",
    "### We only take constellation as Independent Variable. However, many other factors, like age, gender, education and family background can effect ranking and wealth value. What’s more, Forbes ranking list is only one example. It can not explain well the true link between constellations and wealth value. And the last, We have lots of missing value. We get only 194 valid samples from top 300 billionaires. "
   ]
  },
  {
   "cell_type": "markdown",
   "metadata": {},
   "source": []
  }
 ],
 "metadata": {
  "kernelspec": {
   "display_name": "Python 3",
   "language": "python",
   "name": "python3"
  },
  "language_info": {
   "codemirror_mode": {
    "name": "ipython",
    "version": 3
   },
   "file_extension": ".py",
   "mimetype": "text/x-python",
   "name": "python",
   "nbconvert_exporter": "python",
   "pygments_lexer": "ipython3",
   "version": "3.7.0"
  }
 },
 "nbformat": 4,
 "nbformat_minor": 2
}
