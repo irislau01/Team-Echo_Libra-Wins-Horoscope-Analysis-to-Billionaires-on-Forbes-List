{
 "cells": [
  {
   "cell_type": "code",
   "execution_count": null,
   "metadata": {},
   "outputs": [],
   "source": [
    "#獲取Forbes前三百中英名單及財富值"
   ]
  },
  {
   "cell_type": "code",
   "execution_count": null,
   "metadata": {},
   "outputs": [],
   "source": [
    "import requests\n",
    "from bs4 import BeautifulSoup\n",
    "import pandas as pd"
   ]
  },
  {
   "cell_type": "code",
   "execution_count": null,
   "metadata": {},
   "outputs": [],
   "source": [
    "url='http://www.forbeschina.com/review/list/002436.shtml'\n",
    "re = requests.get(url)\n",
    "re.encoding = 'utf-8'\n",
    "soup = BeautifulSoup(re.text,'html.parser')"
   ]
  },
  {
   "cell_type": "code",
   "execution_count": null,
   "metadata": {},
   "outputs": [],
   "source": [
    "right_table=soup.find('table', id='show_list')\n",
    "right_table"
   ]
  },
  {
   "cell_type": "code",
   "execution_count": null,
   "metadata": {},
   "outputs": [],
   "source": [
    "thead= [header.text for header in right_table.find_all('td')]\n",
    "print(thead)"
   ]
  },
  {
   "cell_type": "code",
   "execution_count": null,
   "metadata": {},
   "outputs": [],
   "source": [
    "headers=(thead[0:5])\n",
    "print(headers)"
   ]
  },
  {
   "cell_type": "code",
   "execution_count": null,
   "metadata": {},
   "outputs": [],
   "source": [
    "rows = []\n",
    "for row in right_table.find_all('tr'):\n",
    "    rows.append([val.text for val in row.find_all('td')])"
   ]
  },
  {
   "cell_type": "code",
   "execution_count": null,
   "metadata": {},
   "outputs": [],
   "source": [
    "for n,r in enumerate(rows):\n",
    "    print(n,r)\n",
    "    if n > 300: break"
   ]
  },
  {
   "cell_type": "code",
   "execution_count": null,
   "metadata": {},
   "outputs": [],
   "source": [
    "dfForbes = pd.DataFrame(rows, columns=headers)\n",
    "dfForbes"
   ]
  },
  {
   "cell_type": "code",
   "execution_count": null,
   "metadata": {},
   "outputs": [],
   "source": [
    "dfForbes.to_csv('pd_namelists.csv')"
   ]
  },
  {
   "cell_type": "code",
   "execution_count": null,
   "metadata": {},
   "outputs": [],
   "source": []
  },
  {
   "cell_type": "code",
   "execution_count": null,
   "metadata": {},
   "outputs": [],
   "source": [
    "#獲取生日並生成對應星座"
   ]
  },
  {
   "cell_type": "code",
   "execution_count": null,
   "metadata": {},
   "outputs": [],
   "source": [
    "import requests \n",
    "from bs4 import BeautifulSoup\n",
    "import bs4 as bs\n",
    "import csv\n",
    "import pandas as pd"
   ]
  },
  {
   "cell_type": "code",
   "execution_count": null,
   "metadata": {},
   "outputs": [],
   "source": [
    "forbes = pd.read_csv('pd_namelists.csv',usecols=[3])\n",
    "forbes['姓名（英文）'].head(300)"
   ]
  },
  {
   "cell_type": "code",
   "execution_count": null,
   "metadata": {},
   "outputs": [],
   "source": [
    "forbeslist = forbes['姓名（英文）'].str.replace(' & family','')\n",
    "print(forbeslist)"
   ]
  },
  {
   "cell_type": "code",
   "execution_count": null,
   "metadata": {},
   "outputs": [],
   "source": [
    "births = []  \n",
    "names = [str(i) for i in forbeslist.head(300)]\n",
    "for name in names:\n",
    "    source = requests.get('https://en.wikipedia.org/wiki/' + name)\n",
    "    page_html = bs.BeautifulSoup(source.content, 'html.parser')\n",
    "    bdayscontainer = page_html.find_all('span', attrs = {'bday'}) \n",
    "    if len(bdayscontainer)!=0:\n",
    "        for a in bdayscontainer:\n",
    "            bdayscontainers = a.get_text()\n",
    "            births.append(bdayscontainers)\n",
    "    else:\n",
    "        bdayscontainers = \"null\"\n",
    "        births.append(bdayscontainers)    \n",
    "print(births)"
   ]
  },
  {
   "cell_type": "code",
   "execution_count": null,
   "metadata": {},
   "outputs": [],
   "source": [
    "from pandas.core.frame import DataFrame \n",
    "birthdata=DataFrame(births)\n",
    "print(birthdata)"
   ]
  },
  {
   "cell_type": "code",
   "execution_count": null,
   "metadata": {},
   "outputs": [],
   "source": [
    "birthdata.columns = ['生日']\n",
    "forbesdata = forbeslist.head(301)\n",
    "borndata = pd.concat((forbesdata, birthdata), axis = 1)\n",
    "borndata.set_index('姓名（英文）')\n",
    "birthdaydata = borndata['生日'].str.split('-', expand = True)\n",
    "birthdaydata"
   ]
  },
  {
   "cell_type": "code",
   "execution_count": null,
   "metadata": {},
   "outputs": [],
   "source": [
    "birthdayfinal = pd.merge (borndata, birthdaydata, left_index=True, right_index=True, how='outer')\n",
    "birthdayfinal.columns = ['name', 'birthday', 'year', 'month', 'day']\n",
    "birthdayfinal.info()\n",
    "birthdayfinal"
   ]
  },
  {
   "cell_type": "code",
   "execution_count": null,
   "metadata": {},
   "outputs": [],
   "source": [
    "stardata = birthdayfinal.dropna(subset=[\"name\", \"year\", \"month\", \"day\"])\n",
    "mlist = stardata['month'].astype(int)\n",
    "print(type(mlist))\n",
    "print(len(mlist))\n",
    "dlist = stardata['day'].astype(int)\n",
    "print(type(dlist))\n",
    "print(len(dlist))"
   ]
  },
  {
   "cell_type": "code",
   "execution_count": null,
   "metadata": {},
   "outputs": [],
   "source": [
    "xzlist = []  \n",
    "for month, date in zip(dlist, mlist):\n",
    "    def get_constellation(month,date):\n",
    "        dates = (20,19,21,20,21,22,23,23,23,24,23,22)\n",
    "        constellations = (\"摩羯\",\"水瓶\",\"双鱼\",\"白羊\",\"金牛\",\"双子\",\"巨蟹\",\"狮子\",\"处女\",\"天秤\",\"天蝎\",\"射手\",\"摩羯\")\n",
    "        if (date < dates[month-1]):\n",
    "            return constellations[month-1]\n",
    "        else:\n",
    "            return constellations[month]\n",
    "    xz = get_constellation(date,month)\n",
    "    xzlist.append(xz)\n",
    "print(xzlist) "
   ]
  },
  {
   "cell_type": "code",
   "execution_count": null,
   "metadata": {},
   "outputs": [],
   "source": [
    "xzlistdata=DataFrame(xzlist)\n",
    "xzlistdata.columns = ['星座']\n",
    "print(len(xzlistdata))"
   ]
  },
  {
   "cell_type": "code",
   "execution_count": null,
   "metadata": {},
   "outputs": [],
   "source": [
    "stardata2 = stardata.reset_index(drop=True)\n",
    "wholedata = pd.merge (stardata2, xzlistdata, left_index=True, right_index=True, how='outer')\n",
    "wholedata"
   ]
  },
  {
   "cell_type": "code",
   "execution_count": null,
   "metadata": {},
   "outputs": [],
   "source": [
    "import pandas as pd\n",
    "value = pd.read_csv('pd_namelists.csv',usecols=[4])\n",
    "value.head(300)\n",
    "forbes_value = pd.merge(wholedata, value, left_index=True, right_index=True, how='outer')\n",
    "finaldata_clear = forbes_value.dropna(subset=['name', 'birthday', 'year', 'month','day','财富值（亿美元）'])\n",
    "print(len(finaldata_clear))\n",
    "finaldata_clear"
   ]
  },
  {
   "cell_type": "code",
   "execution_count": null,
   "metadata": {},
   "outputs": [],
   "source": [
    "finaldata_clear.to_csv('pd_finaldataclear.csv')"
   ]
  },
  {
   "cell_type": "code",
   "execution_count": null,
   "metadata": {},
   "outputs": [],
   "source": []
  },
  {
   "cell_type": "code",
   "execution_count": null,
   "metadata": {},
   "outputs": [],
   "source": [
    "#分析部分"
   ]
  },
  {
   "cell_type": "code",
   "execution_count": null,
   "metadata": {},
   "outputs": [],
   "source": [
    "import matplotlib.pyplot as plt\n",
    "g1_1 = wholedata\n",
    "g1_1=g1_1.drop(69) #去除無效數據"
   ]
  },
  {
   "cell_type": "code",
   "execution_count": null,
   "metadata": {},
   "outputs": [],
   "source": [
    "print(len(g1_1))\n",
    "g1_1['星座'].value_counts()"
   ]
  },
  {
   "cell_type": "code",
   "execution_count": null,
   "metadata": {},
   "outputs": [],
   "source": [
    "plt.rcParams['font.sans-serif']=['SimHei'] #在windows環境下解決matplotlib中文亂碼\n",
    "#plt.rcParams['font.sans-serif'] = ['Arial Unicode MS'] #在mac環境下解決matplotlib中文亂碼\n",
    "fig=plt.figure(figsize=(10,6)) \n",
    "g1_1['星座'].value_counts().plot(kind='bar',color='#778899')\n",
    "plt.xlabel('星座',size=13)\n",
    "plt.ylabel('数量',size=13)\n",
    "plt.title('福布斯榜各星座比重',size=15)"
   ]
  },
  {
   "cell_type": "code",
   "execution_count": null,
   "metadata": {},
   "outputs": [],
   "source": [
    "g1_a=g1_1['星座'].head(48) #取12的整數倍進行分層\n",
    "print(len(g1_a))\n",
    "g1_a.value_counts()"
   ]
  },
  {
   "cell_type": "code",
   "execution_count": null,
   "metadata": {},
   "outputs": [],
   "source": [
    "g1avaluecounts=g1_a.value_counts()\n",
    "dict1=dict(g1avaluecounts)\n",
    "dict1['射手'] = '0' \n",
    "print(dict1)"
   ]
  },
  {
   "cell_type": "code",
   "execution_count": null,
   "metadata": {},
   "outputs": [],
   "source": [
    "arr = list(dict1.items())\n",
    "g1_aa = pd.DataFrame(list(dict1.items()), columns=['星座', '数量'])\n",
    "g1_xzorder=g1_aa[\"星座\"].tolist()\n",
    "print(g1_xzorder) \n",
    "g1_aa"
   ]
  },
  {
   "cell_type": "code",
   "execution_count": null,
   "metadata": {},
   "outputs": [],
   "source": [
    "fig=plt.figure(figsize=(10,6)) \n",
    "g1_a.value_counts().plot(kind='bar',color='#b0e0e6')\n",
    "plt.xlabel('星座',size=13)\n",
    "plt.ylabel('数量',size=13)\n",
    "plt.title('前四十八名内各星座比重',size=15)"
   ]
  },
  {
   "cell_type": "code",
   "execution_count": null,
   "metadata": {},
   "outputs": [],
   "source": [
    "g1_b=g1_1['星座'].head(96)\n",
    "print(len(g1_b))\n",
    "g1_b.value_counts()"
   ]
  },
  {
   "cell_type": "code",
   "execution_count": null,
   "metadata": {},
   "outputs": [],
   "source": [
    "fig=plt.figure(figsize=(10,6)) \n",
    "g1_b.value_counts().plot(kind='bar',color='#ffffff')\n",
    "g1_b.value_counts().loc[g1_xzorder].plot(kind='bar',color='#b0e0e6')\n",
    "plt.xlabel('星座',size=13)\n",
    "plt.ylabel('数量',size=13)\n",
    "plt.title('前九十六名内各星座比重',size=15)"
   ]
  },
  {
   "cell_type": "code",
   "execution_count": null,
   "metadata": {},
   "outputs": [],
   "source": [
    "g1_c=g1_1['星座'].head(144) \n",
    "print(len(g1_c))\n",
    "g1_c.value_counts()"
   ]
  },
  {
   "cell_type": "code",
   "execution_count": null,
   "metadata": {},
   "outputs": [],
   "source": [
    "fig=plt.figure(figsize=(10,6)) \n",
    "g1_c.value_counts().plot(kind='bar',color='#ffffff')\n",
    "g1_c.value_counts().loc[g1_xzorder].plot(kind='bar',color='#b0e0e6')\n",
    "plt.xlabel('星座',size=13)\n",
    "plt.ylabel('数量',size=13)\n",
    "plt.title('前一百四十四名内各星座比重',size=15)\n",
    "plt.yticks([0, 1])"
   ]
  },
  {
   "cell_type": "code",
   "execution_count": null,
   "metadata": {},
   "outputs": [],
   "source": [
    "g1_d=g1_1['星座'].head(192)\n",
    "print(len(g1_d))\n",
    "g1_d.value_counts()"
   ]
  },
  {
   "cell_type": "code",
   "execution_count": null,
   "metadata": {},
   "outputs": [],
   "source": [
    "fig=plt.figure(figsize=(10,6)) \n",
    "g1_d.value_counts().plot(kind='bar',color='#ffffff')\n",
    "g1_d.value_counts().loc[g1_xzorder].plot(kind='bar',color='#b0e0e6')\n",
    "plt.xlabel('星座',size=13)\n",
    "plt.ylabel('数量',size=13)\n",
    "plt.title('前一百九十二名内各星座比重',size=15)"
   ]
  },
  {
   "cell_type": "code",
   "execution_count": null,
   "metadata": {},
   "outputs": [],
   "source": [
    "g1a=g1_a.value_counts()\n",
    "a_ranking=dict(g1a)\n",
    "print(a_ranking)\n",
    "print(len(a_ranking))"
   ]
  },
  {
   "cell_type": "code",
   "execution_count": null,
   "metadata": {},
   "outputs": [],
   "source": [
    "a_ranking['射手'] = '0' #重新添加g1_a.value_counts()中被過濾掉的0次射手座\n",
    "print(a_ranking)\n",
    "print(len(a_ranking))"
   ]
  },
  {
   "cell_type": "code",
   "execution_count": null,
   "metadata": {},
   "outputs": [],
   "source": [
    "g1b=g1_b.value_counts()\n",
    "b_ranking=dict(g1b)\n",
    "print(b_ranking)\n",
    "print(len(b_ranking))\n",
    "g1c=g1_c.value_counts()\n",
    "c_ranking=dict(g1c)\n",
    "print(c_ranking)\n",
    "print(len(c_ranking))\n",
    "g1d=g1_d.value_counts()\n",
    "d_ranking=dict(g1d)\n",
    "print(d_ranking)\n",
    "print(len(d_ranking))"
   ]
  },
  {
   "cell_type": "code",
   "execution_count": null,
   "metadata": {},
   "outputs": [],
   "source": [
    "from pandas import DataFrame\n",
    "from pandas.plotting import parallel_coordinates"
   ]
  },
  {
   "cell_type": "code",
   "execution_count": null,
   "metadata": {},
   "outputs": [],
   "source": [
    "df_g1=DataFrame({'星座':['天秤','水瓶','双鱼','金牛','处女','狮子','白羊','双子','巨蟹','天蝎','摩羯','射手'],'前四十八名':[2,3,3,1,3,2,2,3,4,1,5,6],'前九十六名':[2,5,4,1,7,5,3,4,6,5,8,9],'前一百四十四名':[3,6,1,2,5,4,6,5,6,5,7,8],'前一百九十二名':[1,2,2,2,4,3,4,4,5,6,7,8]})"
   ]
  },
  {
   "cell_type": "code",
   "execution_count": null,
   "metadata": {},
   "outputs": [],
   "source": [
    "fig=plt.figure(figsize=(12,10)) \n",
    "plt.ylabel('所占比重在十二星座内的名次',size=15)\n",
    "parallel_coordinates(df_g1,'星座')\n",
    "plt.ylim((9, 1))"
   ]
  },
  {
   "cell_type": "code",
   "execution_count": null,
   "metadata": {},
   "outputs": [],
   "source": [
    "value = pd.read_csv('pd_namelists.csv',usecols=[4])\n",
    "value.head(300)\n",
    "forbes_value = pd.merge(wholedata, value, left_index=True, right_index=True, how='outer')\n",
    "finaldata_clear = forbes_value.dropna(subset=['name', 'birthday', 'year', 'month','day','财富值（亿美元）'])\n",
    "print(len(finaldata_clear))\n",
    "finaldata_clear"
   ]
  },
  {
   "cell_type": "code",
   "execution_count": null,
   "metadata": {},
   "outputs": [],
   "source": [
    "valueclear=finaldata_clear['财富值（亿美元）']\n",
    "value1=DataFrame(valueclear)\n",
    "value2=value1.reset_index(drop=True)\n",
    "value_xz=pd.merge(xzlistdata, value2, left_index=True, right_index=True, how='outer')\n",
    "value_xz"
   ]
  },
  {
   "cell_type": "code",
   "execution_count": null,
   "metadata": {},
   "outputs": [],
   "source": [
    "grouped = value_xz['财富值（亿美元）'].groupby(value_xz['星座'])\n",
    "sumvalue=DataFrame(grouped.sum())"
   ]
  },
  {
   "cell_type": "code",
   "execution_count": null,
   "metadata": {},
   "outputs": [],
   "source": [
    "sumvalue.to_csv('pd_sumvalue.csv')"
   ]
  },
  {
   "cell_type": "code",
   "execution_count": null,
   "metadata": {},
   "outputs": [],
   "source": [
    "sumvalue1 = pd.read_csv('pd_sumvalue.csv')\n",
    "sumvalue2 = sumvalue1.sort_values(by=\"财富值（亿美元）\", ascending=False)\n",
    "sumvalue2"
   ]
  },
  {
   "cell_type": "code",
   "execution_count": null,
   "metadata": {},
   "outputs": [],
   "source": [
    "import matplotlib.pyplot as plt\n",
    "import squarify"
   ]
  },
  {
   "cell_type": "code",
   "execution_count": null,
   "metadata": {
    "scrolled": true
   },
   "outputs": [],
   "source": [
    "fig=plt.figure(figsize=(12,10))\n",
    "squarify.plot(sizes=sumvalue2['财富值（亿美元）'], label=sumvalue2['星座'], alpha=.7 )\n",
    "plt.axis('off')\n",
    "plt.rcParams['font.sans-serif']=['SimHei']\n",
    "plt.show()"
   ]
  },
  {
   "cell_type": "code",
   "execution_count": null,
   "metadata": {},
   "outputs": [],
   "source": []
  }
 ],
 "metadata": {
  "kernelspec": {
   "display_name": "Python 3",
   "language": "python",
   "name": "python3"
  },
  "language_info": {
   "codemirror_mode": {
    "name": "ipython",
    "version": 3
   },
   "file_extension": ".py",
   "mimetype": "text/x-python",
   "name": "python",
   "nbconvert_exporter": "python",
   "pygments_lexer": "ipython3",
   "version": "3.7.0"
  }
 },
 "nbformat": 4,
 "nbformat_minor": 2
}
