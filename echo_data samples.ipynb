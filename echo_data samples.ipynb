{
 "cells": [
  {
   "cell_type": "code",
   "execution_count": null,
   "metadata": {},
   "outputs": [],
   "source": [
    "#獲取Forbes前三百中英名單及財富值"
   ]
  },
  {
   "cell_type": "code",
   "execution_count": null,
   "metadata": {},
   "outputs": [],
   "source": [
    "#import requests\n",
    "#from bs4 import BeautifulSoup\n",
    "#import pandas as pd"
   ]
  },
  {
   "cell_type": "code",
   "execution_count": null,
   "metadata": {},
   "outputs": [],
   "source": [
    "#url='http://www.forbeschina.com/review/list/002436.shtml'\n",
    "#re = requests.get(url)\n",
    "#re.encoding = 'utf-8'\n",
    "#soup = BeautifulSoup(re.text,'html.parser')"
   ]
  },
  {
   "cell_type": "code",
   "execution_count": null,
   "metadata": {},
   "outputs": [],
   "source": [
    "#right_table=soup.find('table', id='show_list')\n",
    "#right_table"
   ]
  },
  {
   "cell_type": "code",
   "execution_count": null,
   "metadata": {},
   "outputs": [],
   "source": [
    "#thead= [header.text for header in right_table.find_all('td')]\n",
    "#print(thead)"
   ]
  },
  {
   "cell_type": "code",
   "execution_count": null,
   "metadata": {},
   "outputs": [],
   "source": [
    "#headers=(thead[0:5])\n",
    "#print(headers)"
   ]
  },
  {
   "cell_type": "code",
   "execution_count": null,
   "metadata": {},
   "outputs": [],
   "source": [
    "#rows = []\n",
    "#for row in right_table.find_all('tr'):\n",
    "#    rows.append([val.text for val in row.find_all('td')])"
   ]
  },
  {
   "cell_type": "code",
   "execution_count": null,
   "metadata": {},
   "outputs": [],
   "source": [
    "#for n,r in enumerate(rows):\n",
    "#    print(n,r)\n",
    "#    if n > 300: break"
   ]
  },
  {
   "cell_type": "code",
   "execution_count": null,
   "metadata": {},
   "outputs": [],
   "source": [
    "#dfForbes = pd.DataFrame(rows, columns=headers)\n",
    "#dfForbes"
   ]
  },
  {
   "cell_type": "code",
   "execution_count": null,
   "metadata": {},
   "outputs": [],
   "source": [
    "#dfForbes.to_csv('pd_namelists.csv')"
   ]
  },
  {
   "cell_type": "code",
   "execution_count": null,
   "metadata": {},
   "outputs": [],
   "source": []
  },
  {
   "cell_type": "code",
   "execution_count": null,
   "metadata": {},
   "outputs": [],
   "source": [
    "#獲取生日並生成對應星座"
   ]
  },
  {
   "cell_type": "code",
   "execution_count": 1,
   "metadata": {},
   "outputs": [],
   "source": [
    "import requests \n",
    "from bs4 import BeautifulSoup\n",
    "import bs4 as bs\n",
    "import csv\n",
    "import pandas as pd"
   ]
  },
  {
   "cell_type": "code",
   "execution_count": 2,
   "metadata": {},
   "outputs": [
    {
     "data": {
      "text/plain": [
       "0                    Jeff Bezos\n",
       "1                    Bill Gates\n",
       "2                Warren Buffett\n",
       "3      Bernard Arnault & family\n",
       "4               Mark Zuckerberg\n",
       "5                Amancio Ortega\n",
       "6     Carlos Slim Helu & family\n",
       "7                  Charles Koch\n",
       "8                    David Koch\n",
       "9                 Larry Ellison\n",
       "10            Michael Bloomberg\n",
       "11                   Larry Page\n",
       "Name: 姓名（英文）, dtype: object"
      ]
     },
     "execution_count": 2,
     "metadata": {},
     "output_type": "execute_result"
    }
   ],
   "source": [
    "forbes = pd.read_csv('pd_namelists.csv',usecols=[3])\n",
    "forbes['姓名（英文）'].head(12)\n",
    "#the first 12 rows of datasets used for analysis"
   ]
  },
  {
   "cell_type": "code",
   "execution_count": 3,
   "metadata": {},
   "outputs": [
    {
     "name": "stdout",
     "output_type": "stream",
     "text": [
      "0            Jeff Bezos\n",
      "1            Bill Gates\n",
      "2        Warren Buffett\n",
      "3       Bernard Arnault\n",
      "4       Mark Zuckerberg\n",
      "5        Amancio Ortega\n",
      "6      Carlos Slim Helu\n",
      "7          Charles Koch\n",
      "8            David Koch\n",
      "9         Larry Ellison\n",
      "10    Michael Bloomberg\n",
      "11           Larry Page\n",
      "Name: 姓名（英文）, dtype: object\n"
     ]
    }
   ],
   "source": [
    "forbeslist = forbes['姓名（英文）'].str.replace(' & family','')\n",
    "print(forbeslist.head(12))"
   ]
  },
  {
   "cell_type": "code",
   "execution_count": 4,
   "metadata": {},
   "outputs": [
    {
     "name": "stdout",
     "output_type": "stream",
     "text": [
      "['1964-01-12', '1955-10-28', '1930-08-30', '1949-03-05', '1984-05-14', '1936-03-28', '1940-01-28', '1935-11-01', '1940-05-03', '1944-08-17', '1942-02-14', '1973-03-26']\n"
     ]
    }
   ],
   "source": [
    "births = []  \n",
    "names = [str(i) for i in forbeslist.head(12)]\n",
    "for name in names:\n",
    "    source = requests.get('https://en.wikipedia.org/wiki/' + name)\n",
    "    page_html = bs.BeautifulSoup(source.content, 'html.parser')\n",
    "    bdayscontainer = page_html.find_all('span', attrs = {'bday'}) \n",
    "    if len(bdayscontainer)!=0:\n",
    "        for a in bdayscontainer:\n",
    "            bdayscontainers = a.get_text()\n",
    "            births.append(bdayscontainers)\n",
    "    else:\n",
    "        bdayscontainers = \"null\"\n",
    "        births.append(bdayscontainers)    \n",
    "print(births)"
   ]
  },
  {
   "cell_type": "code",
   "execution_count": 5,
   "metadata": {},
   "outputs": [
    {
     "name": "stdout",
     "output_type": "stream",
     "text": [
      "             0\n",
      "0   1964-01-12\n",
      "1   1955-10-28\n",
      "2   1930-08-30\n",
      "3   1949-03-05\n",
      "4   1984-05-14\n",
      "5   1936-03-28\n",
      "6   1940-01-28\n",
      "7   1935-11-01\n",
      "8   1940-05-03\n",
      "9   1944-08-17\n",
      "10  1942-02-14\n",
      "11  1973-03-26\n"
     ]
    }
   ],
   "source": [
    "from pandas.core.frame import DataFrame \n",
    "birthdata=DataFrame(births)\n",
    "print(birthdata)"
   ]
  },
  {
   "cell_type": "code",
   "execution_count": 6,
   "metadata": {},
   "outputs": [
    {
     "data": {
      "text/html": [
       "<div>\n",
       "<style scoped>\n",
       "    .dataframe tbody tr th:only-of-type {\n",
       "        vertical-align: middle;\n",
       "    }\n",
       "\n",
       "    .dataframe tbody tr th {\n",
       "        vertical-align: top;\n",
       "    }\n",
       "\n",
       "    .dataframe thead th {\n",
       "        text-align: right;\n",
       "    }\n",
       "</style>\n",
       "<table border=\"1\" class=\"dataframe\">\n",
       "  <thead>\n",
       "    <tr style=\"text-align: right;\">\n",
       "      <th></th>\n",
       "      <th>0</th>\n",
       "      <th>1</th>\n",
       "      <th>2</th>\n",
       "    </tr>\n",
       "  </thead>\n",
       "  <tbody>\n",
       "    <tr>\n",
       "      <th>0</th>\n",
       "      <td>1964</td>\n",
       "      <td>01</td>\n",
       "      <td>12</td>\n",
       "    </tr>\n",
       "    <tr>\n",
       "      <th>1</th>\n",
       "      <td>1955</td>\n",
       "      <td>10</td>\n",
       "      <td>28</td>\n",
       "    </tr>\n",
       "    <tr>\n",
       "      <th>2</th>\n",
       "      <td>1930</td>\n",
       "      <td>08</td>\n",
       "      <td>30</td>\n",
       "    </tr>\n",
       "    <tr>\n",
       "      <th>3</th>\n",
       "      <td>1949</td>\n",
       "      <td>03</td>\n",
       "      <td>05</td>\n",
       "    </tr>\n",
       "    <tr>\n",
       "      <th>4</th>\n",
       "      <td>1984</td>\n",
       "      <td>05</td>\n",
       "      <td>14</td>\n",
       "    </tr>\n",
       "    <tr>\n",
       "      <th>5</th>\n",
       "      <td>1936</td>\n",
       "      <td>03</td>\n",
       "      <td>28</td>\n",
       "    </tr>\n",
       "    <tr>\n",
       "      <th>6</th>\n",
       "      <td>1940</td>\n",
       "      <td>01</td>\n",
       "      <td>28</td>\n",
       "    </tr>\n",
       "    <tr>\n",
       "      <th>7</th>\n",
       "      <td>1935</td>\n",
       "      <td>11</td>\n",
       "      <td>01</td>\n",
       "    </tr>\n",
       "    <tr>\n",
       "      <th>8</th>\n",
       "      <td>1940</td>\n",
       "      <td>05</td>\n",
       "      <td>03</td>\n",
       "    </tr>\n",
       "    <tr>\n",
       "      <th>9</th>\n",
       "      <td>1944</td>\n",
       "      <td>08</td>\n",
       "      <td>17</td>\n",
       "    </tr>\n",
       "    <tr>\n",
       "      <th>10</th>\n",
       "      <td>1942</td>\n",
       "      <td>02</td>\n",
       "      <td>14</td>\n",
       "    </tr>\n",
       "    <tr>\n",
       "      <th>11</th>\n",
       "      <td>1973</td>\n",
       "      <td>03</td>\n",
       "      <td>26</td>\n",
       "    </tr>\n",
       "  </tbody>\n",
       "</table>\n",
       "</div>"
      ],
      "text/plain": [
       "       0   1   2\n",
       "0   1964  01  12\n",
       "1   1955  10  28\n",
       "2   1930  08  30\n",
       "3   1949  03  05\n",
       "4   1984  05  14\n",
       "5   1936  03  28\n",
       "6   1940  01  28\n",
       "7   1935  11  01\n",
       "8   1940  05  03\n",
       "9   1944  08  17\n",
       "10  1942  02  14\n",
       "11  1973  03  26"
      ]
     },
     "execution_count": 6,
     "metadata": {},
     "output_type": "execute_result"
    }
   ],
   "source": [
    "birthdata.columns = ['生日']\n",
    "forbesdata = forbeslist.head(12)\n",
    "borndata = pd.concat((forbesdata, birthdata), axis = 1)\n",
    "borndata.set_index('姓名（英文）')\n",
    "birthdaydata = borndata['生日'].str.split('-', expand = True)\n",
    "birthdaydata"
   ]
  },
  {
   "cell_type": "code",
   "execution_count": 7,
   "metadata": {},
   "outputs": [
    {
     "name": "stdout",
     "output_type": "stream",
     "text": [
      "<class 'pandas.core.frame.DataFrame'>\n",
      "RangeIndex: 12 entries, 0 to 11\n",
      "Data columns (total 5 columns):\n",
      "name        12 non-null object\n",
      "birthday    12 non-null object\n",
      "year        12 non-null object\n",
      "month       12 non-null object\n",
      "day         12 non-null object\n",
      "dtypes: object(5)\n",
      "memory usage: 560.0+ bytes\n"
     ]
    },
    {
     "data": {
      "text/html": [
       "<div>\n",
       "<style scoped>\n",
       "    .dataframe tbody tr th:only-of-type {\n",
       "        vertical-align: middle;\n",
       "    }\n",
       "\n",
       "    .dataframe tbody tr th {\n",
       "        vertical-align: top;\n",
       "    }\n",
       "\n",
       "    .dataframe thead th {\n",
       "        text-align: right;\n",
       "    }\n",
       "</style>\n",
       "<table border=\"1\" class=\"dataframe\">\n",
       "  <thead>\n",
       "    <tr style=\"text-align: right;\">\n",
       "      <th></th>\n",
       "      <th>name</th>\n",
       "      <th>birthday</th>\n",
       "      <th>year</th>\n",
       "      <th>month</th>\n",
       "      <th>day</th>\n",
       "    </tr>\n",
       "  </thead>\n",
       "  <tbody>\n",
       "    <tr>\n",
       "      <th>0</th>\n",
       "      <td>Jeff Bezos</td>\n",
       "      <td>1964-01-12</td>\n",
       "      <td>1964</td>\n",
       "      <td>01</td>\n",
       "      <td>12</td>\n",
       "    </tr>\n",
       "    <tr>\n",
       "      <th>1</th>\n",
       "      <td>Bill Gates</td>\n",
       "      <td>1955-10-28</td>\n",
       "      <td>1955</td>\n",
       "      <td>10</td>\n",
       "      <td>28</td>\n",
       "    </tr>\n",
       "    <tr>\n",
       "      <th>2</th>\n",
       "      <td>Warren Buffett</td>\n",
       "      <td>1930-08-30</td>\n",
       "      <td>1930</td>\n",
       "      <td>08</td>\n",
       "      <td>30</td>\n",
       "    </tr>\n",
       "    <tr>\n",
       "      <th>3</th>\n",
       "      <td>Bernard Arnault</td>\n",
       "      <td>1949-03-05</td>\n",
       "      <td>1949</td>\n",
       "      <td>03</td>\n",
       "      <td>05</td>\n",
       "    </tr>\n",
       "    <tr>\n",
       "      <th>4</th>\n",
       "      <td>Mark Zuckerberg</td>\n",
       "      <td>1984-05-14</td>\n",
       "      <td>1984</td>\n",
       "      <td>05</td>\n",
       "      <td>14</td>\n",
       "    </tr>\n",
       "    <tr>\n",
       "      <th>5</th>\n",
       "      <td>Amancio Ortega</td>\n",
       "      <td>1936-03-28</td>\n",
       "      <td>1936</td>\n",
       "      <td>03</td>\n",
       "      <td>28</td>\n",
       "    </tr>\n",
       "    <tr>\n",
       "      <th>6</th>\n",
       "      <td>Carlos Slim Helu</td>\n",
       "      <td>1940-01-28</td>\n",
       "      <td>1940</td>\n",
       "      <td>01</td>\n",
       "      <td>28</td>\n",
       "    </tr>\n",
       "    <tr>\n",
       "      <th>7</th>\n",
       "      <td>Charles Koch</td>\n",
       "      <td>1935-11-01</td>\n",
       "      <td>1935</td>\n",
       "      <td>11</td>\n",
       "      <td>01</td>\n",
       "    </tr>\n",
       "    <tr>\n",
       "      <th>8</th>\n",
       "      <td>David Koch</td>\n",
       "      <td>1940-05-03</td>\n",
       "      <td>1940</td>\n",
       "      <td>05</td>\n",
       "      <td>03</td>\n",
       "    </tr>\n",
       "    <tr>\n",
       "      <th>9</th>\n",
       "      <td>Larry Ellison</td>\n",
       "      <td>1944-08-17</td>\n",
       "      <td>1944</td>\n",
       "      <td>08</td>\n",
       "      <td>17</td>\n",
       "    </tr>\n",
       "    <tr>\n",
       "      <th>10</th>\n",
       "      <td>Michael Bloomberg</td>\n",
       "      <td>1942-02-14</td>\n",
       "      <td>1942</td>\n",
       "      <td>02</td>\n",
       "      <td>14</td>\n",
       "    </tr>\n",
       "    <tr>\n",
       "      <th>11</th>\n",
       "      <td>Larry Page</td>\n",
       "      <td>1973-03-26</td>\n",
       "      <td>1973</td>\n",
       "      <td>03</td>\n",
       "      <td>26</td>\n",
       "    </tr>\n",
       "  </tbody>\n",
       "</table>\n",
       "</div>"
      ],
      "text/plain": [
       "                 name    birthday  year month day\n",
       "0          Jeff Bezos  1964-01-12  1964    01  12\n",
       "1          Bill Gates  1955-10-28  1955    10  28\n",
       "2      Warren Buffett  1930-08-30  1930    08  30\n",
       "3     Bernard Arnault  1949-03-05  1949    03  05\n",
       "4     Mark Zuckerberg  1984-05-14  1984    05  14\n",
       "5      Amancio Ortega  1936-03-28  1936    03  28\n",
       "6    Carlos Slim Helu  1940-01-28  1940    01  28\n",
       "7        Charles Koch  1935-11-01  1935    11  01\n",
       "8          David Koch  1940-05-03  1940    05  03\n",
       "9       Larry Ellison  1944-08-17  1944    08  17\n",
       "10  Michael Bloomberg  1942-02-14  1942    02  14\n",
       "11         Larry Page  1973-03-26  1973    03  26"
      ]
     },
     "execution_count": 7,
     "metadata": {},
     "output_type": "execute_result"
    }
   ],
   "source": [
    "birthdayfinal = pd.merge (borndata, birthdaydata, left_index=True, right_index=True, how='outer')\n",
    "birthdayfinal.columns = ['name', 'birthday', 'year', 'month', 'day']\n",
    "birthdayfinal.info()\n",
    "birthdayfinal"
   ]
  },
  {
   "cell_type": "code",
   "execution_count": 8,
   "metadata": {},
   "outputs": [
    {
     "name": "stdout",
     "output_type": "stream",
     "text": [
      "<class 'pandas.core.series.Series'>\n",
      "12\n",
      "<class 'pandas.core.series.Series'>\n",
      "12\n"
     ]
    }
   ],
   "source": [
    "stardata = birthdayfinal.dropna(subset=[\"name\", \"year\", \"month\", \"day\"])\n",
    "mlist = stardata['month'].astype(int)\n",
    "print(type(mlist))\n",
    "print(len(mlist))\n",
    "dlist = stardata['day'].astype(int)\n",
    "print(type(dlist))\n",
    "print(len(dlist))"
   ]
  },
  {
   "cell_type": "code",
   "execution_count": 9,
   "metadata": {},
   "outputs": [
    {
     "name": "stdout",
     "output_type": "stream",
     "text": [
      "['摩羯', '天蝎', '处女', '双鱼', '金牛', '白羊', '水瓶', '天蝎', '金牛', '狮子', '水瓶', '白羊']\n"
     ]
    }
   ],
   "source": [
    "xzlist = []  \n",
    "for month, date in zip(dlist, mlist):\n",
    "    def get_constellation(month,date):\n",
    "        dates = (20,19,21,20,21,22,23,23,23,24,23,22)\n",
    "        constellations = (\"摩羯\",\"水瓶\",\"双鱼\",\"白羊\",\"金牛\",\"双子\",\"巨蟹\",\"狮子\",\"处女\",\"天秤\",\"天蝎\",\"射手\",\"摩羯\")\n",
    "        if (date < dates[month-1]):\n",
    "            return constellations[month-1]\n",
    "        else:\n",
    "            return constellations[month]\n",
    "    xz = get_constellation(date,month)\n",
    "    xzlist.append(xz)\n",
    "print(xzlist) "
   ]
  },
  {
   "cell_type": "code",
   "execution_count": 10,
   "metadata": {},
   "outputs": [
    {
     "name": "stdout",
     "output_type": "stream",
     "text": [
      "12\n"
     ]
    }
   ],
   "source": [
    "xzlistdata=DataFrame(xzlist)\n",
    "xzlistdata.columns = ['星座']\n",
    "print(len(xzlistdata))"
   ]
  },
  {
   "cell_type": "code",
   "execution_count": 11,
   "metadata": {},
   "outputs": [
    {
     "data": {
      "text/html": [
       "<div>\n",
       "<style scoped>\n",
       "    .dataframe tbody tr th:only-of-type {\n",
       "        vertical-align: middle;\n",
       "    }\n",
       "\n",
       "    .dataframe tbody tr th {\n",
       "        vertical-align: top;\n",
       "    }\n",
       "\n",
       "    .dataframe thead th {\n",
       "        text-align: right;\n",
       "    }\n",
       "</style>\n",
       "<table border=\"1\" class=\"dataframe\">\n",
       "  <thead>\n",
       "    <tr style=\"text-align: right;\">\n",
       "      <th></th>\n",
       "      <th>name</th>\n",
       "      <th>birthday</th>\n",
       "      <th>year</th>\n",
       "      <th>month</th>\n",
       "      <th>day</th>\n",
       "      <th>星座</th>\n",
       "    </tr>\n",
       "  </thead>\n",
       "  <tbody>\n",
       "    <tr>\n",
       "      <th>0</th>\n",
       "      <td>Jeff Bezos</td>\n",
       "      <td>1964-01-12</td>\n",
       "      <td>1964</td>\n",
       "      <td>01</td>\n",
       "      <td>12</td>\n",
       "      <td>摩羯</td>\n",
       "    </tr>\n",
       "    <tr>\n",
       "      <th>1</th>\n",
       "      <td>Bill Gates</td>\n",
       "      <td>1955-10-28</td>\n",
       "      <td>1955</td>\n",
       "      <td>10</td>\n",
       "      <td>28</td>\n",
       "      <td>天蝎</td>\n",
       "    </tr>\n",
       "    <tr>\n",
       "      <th>2</th>\n",
       "      <td>Warren Buffett</td>\n",
       "      <td>1930-08-30</td>\n",
       "      <td>1930</td>\n",
       "      <td>08</td>\n",
       "      <td>30</td>\n",
       "      <td>处女</td>\n",
       "    </tr>\n",
       "    <tr>\n",
       "      <th>3</th>\n",
       "      <td>Bernard Arnault</td>\n",
       "      <td>1949-03-05</td>\n",
       "      <td>1949</td>\n",
       "      <td>03</td>\n",
       "      <td>05</td>\n",
       "      <td>双鱼</td>\n",
       "    </tr>\n",
       "    <tr>\n",
       "      <th>4</th>\n",
       "      <td>Mark Zuckerberg</td>\n",
       "      <td>1984-05-14</td>\n",
       "      <td>1984</td>\n",
       "      <td>05</td>\n",
       "      <td>14</td>\n",
       "      <td>金牛</td>\n",
       "    </tr>\n",
       "    <tr>\n",
       "      <th>5</th>\n",
       "      <td>Amancio Ortega</td>\n",
       "      <td>1936-03-28</td>\n",
       "      <td>1936</td>\n",
       "      <td>03</td>\n",
       "      <td>28</td>\n",
       "      <td>白羊</td>\n",
       "    </tr>\n",
       "    <tr>\n",
       "      <th>6</th>\n",
       "      <td>Carlos Slim Helu</td>\n",
       "      <td>1940-01-28</td>\n",
       "      <td>1940</td>\n",
       "      <td>01</td>\n",
       "      <td>28</td>\n",
       "      <td>水瓶</td>\n",
       "    </tr>\n",
       "    <tr>\n",
       "      <th>7</th>\n",
       "      <td>Charles Koch</td>\n",
       "      <td>1935-11-01</td>\n",
       "      <td>1935</td>\n",
       "      <td>11</td>\n",
       "      <td>01</td>\n",
       "      <td>天蝎</td>\n",
       "    </tr>\n",
       "    <tr>\n",
       "      <th>8</th>\n",
       "      <td>David Koch</td>\n",
       "      <td>1940-05-03</td>\n",
       "      <td>1940</td>\n",
       "      <td>05</td>\n",
       "      <td>03</td>\n",
       "      <td>金牛</td>\n",
       "    </tr>\n",
       "    <tr>\n",
       "      <th>9</th>\n",
       "      <td>Larry Ellison</td>\n",
       "      <td>1944-08-17</td>\n",
       "      <td>1944</td>\n",
       "      <td>08</td>\n",
       "      <td>17</td>\n",
       "      <td>狮子</td>\n",
       "    </tr>\n",
       "    <tr>\n",
       "      <th>10</th>\n",
       "      <td>Michael Bloomberg</td>\n",
       "      <td>1942-02-14</td>\n",
       "      <td>1942</td>\n",
       "      <td>02</td>\n",
       "      <td>14</td>\n",
       "      <td>水瓶</td>\n",
       "    </tr>\n",
       "    <tr>\n",
       "      <th>11</th>\n",
       "      <td>Larry Page</td>\n",
       "      <td>1973-03-26</td>\n",
       "      <td>1973</td>\n",
       "      <td>03</td>\n",
       "      <td>26</td>\n",
       "      <td>白羊</td>\n",
       "    </tr>\n",
       "  </tbody>\n",
       "</table>\n",
       "</div>"
      ],
      "text/plain": [
       "                 name    birthday  year month day  星座\n",
       "0          Jeff Bezos  1964-01-12  1964    01  12  摩羯\n",
       "1          Bill Gates  1955-10-28  1955    10  28  天蝎\n",
       "2      Warren Buffett  1930-08-30  1930    08  30  处女\n",
       "3     Bernard Arnault  1949-03-05  1949    03  05  双鱼\n",
       "4     Mark Zuckerberg  1984-05-14  1984    05  14  金牛\n",
       "5      Amancio Ortega  1936-03-28  1936    03  28  白羊\n",
       "6    Carlos Slim Helu  1940-01-28  1940    01  28  水瓶\n",
       "7        Charles Koch  1935-11-01  1935    11  01  天蝎\n",
       "8          David Koch  1940-05-03  1940    05  03  金牛\n",
       "9       Larry Ellison  1944-08-17  1944    08  17  狮子\n",
       "10  Michael Bloomberg  1942-02-14  1942    02  14  水瓶\n",
       "11         Larry Page  1973-03-26  1973    03  26  白羊"
      ]
     },
     "execution_count": 11,
     "metadata": {},
     "output_type": "execute_result"
    }
   ],
   "source": [
    "stardata2 = stardata.reset_index(drop=True)\n",
    "wholedata = pd.merge (stardata2, xzlistdata, left_index=True, right_index=True, how='outer')\n",
    "wholedata"
   ]
  },
  {
   "cell_type": "code",
   "execution_count": 12,
   "metadata": {},
   "outputs": [
    {
     "name": "stdout",
     "output_type": "stream",
     "text": [
      "12\n"
     ]
    },
    {
     "data": {
      "text/html": [
       "<div>\n",
       "<style scoped>\n",
       "    .dataframe tbody tr th:only-of-type {\n",
       "        vertical-align: middle;\n",
       "    }\n",
       "\n",
       "    .dataframe tbody tr th {\n",
       "        vertical-align: top;\n",
       "    }\n",
       "\n",
       "    .dataframe thead th {\n",
       "        text-align: right;\n",
       "    }\n",
       "</style>\n",
       "<table border=\"1\" class=\"dataframe\">\n",
       "  <thead>\n",
       "    <tr style=\"text-align: right;\">\n",
       "      <th></th>\n",
       "      <th>name</th>\n",
       "      <th>birthday</th>\n",
       "      <th>year</th>\n",
       "      <th>month</th>\n",
       "      <th>day</th>\n",
       "      <th>星座</th>\n",
       "      <th>财富值（亿美元）</th>\n",
       "    </tr>\n",
       "  </thead>\n",
       "  <tbody>\n",
       "    <tr>\n",
       "      <th>0</th>\n",
       "      <td>Jeff Bezos</td>\n",
       "      <td>1964-01-12</td>\n",
       "      <td>1964</td>\n",
       "      <td>01</td>\n",
       "      <td>12</td>\n",
       "      <td>摩羯</td>\n",
       "      <td>1120</td>\n",
       "    </tr>\n",
       "    <tr>\n",
       "      <th>1</th>\n",
       "      <td>Bill Gates</td>\n",
       "      <td>1955-10-28</td>\n",
       "      <td>1955</td>\n",
       "      <td>10</td>\n",
       "      <td>28</td>\n",
       "      <td>天蝎</td>\n",
       "      <td>900</td>\n",
       "    </tr>\n",
       "    <tr>\n",
       "      <th>2</th>\n",
       "      <td>Warren Buffett</td>\n",
       "      <td>1930-08-30</td>\n",
       "      <td>1930</td>\n",
       "      <td>08</td>\n",
       "      <td>30</td>\n",
       "      <td>处女</td>\n",
       "      <td>840</td>\n",
       "    </tr>\n",
       "    <tr>\n",
       "      <th>3</th>\n",
       "      <td>Bernard Arnault</td>\n",
       "      <td>1949-03-05</td>\n",
       "      <td>1949</td>\n",
       "      <td>03</td>\n",
       "      <td>05</td>\n",
       "      <td>双鱼</td>\n",
       "      <td>720</td>\n",
       "    </tr>\n",
       "    <tr>\n",
       "      <th>4</th>\n",
       "      <td>Mark Zuckerberg</td>\n",
       "      <td>1984-05-14</td>\n",
       "      <td>1984</td>\n",
       "      <td>05</td>\n",
       "      <td>14</td>\n",
       "      <td>金牛</td>\n",
       "      <td>710</td>\n",
       "    </tr>\n",
       "    <tr>\n",
       "      <th>5</th>\n",
       "      <td>Amancio Ortega</td>\n",
       "      <td>1936-03-28</td>\n",
       "      <td>1936</td>\n",
       "      <td>03</td>\n",
       "      <td>28</td>\n",
       "      <td>白羊</td>\n",
       "      <td>700</td>\n",
       "    </tr>\n",
       "    <tr>\n",
       "      <th>6</th>\n",
       "      <td>Carlos Slim Helu</td>\n",
       "      <td>1940-01-28</td>\n",
       "      <td>1940</td>\n",
       "      <td>01</td>\n",
       "      <td>28</td>\n",
       "      <td>水瓶</td>\n",
       "      <td>671</td>\n",
       "    </tr>\n",
       "    <tr>\n",
       "      <th>7</th>\n",
       "      <td>Charles Koch</td>\n",
       "      <td>1935-11-01</td>\n",
       "      <td>1935</td>\n",
       "      <td>11</td>\n",
       "      <td>01</td>\n",
       "      <td>天蝎</td>\n",
       "      <td>600</td>\n",
       "    </tr>\n",
       "    <tr>\n",
       "      <th>8</th>\n",
       "      <td>David Koch</td>\n",
       "      <td>1940-05-03</td>\n",
       "      <td>1940</td>\n",
       "      <td>05</td>\n",
       "      <td>03</td>\n",
       "      <td>金牛</td>\n",
       "      <td>600</td>\n",
       "    </tr>\n",
       "    <tr>\n",
       "      <th>9</th>\n",
       "      <td>Larry Ellison</td>\n",
       "      <td>1944-08-17</td>\n",
       "      <td>1944</td>\n",
       "      <td>08</td>\n",
       "      <td>17</td>\n",
       "      <td>狮子</td>\n",
       "      <td>585</td>\n",
       "    </tr>\n",
       "    <tr>\n",
       "      <th>10</th>\n",
       "      <td>Michael Bloomberg</td>\n",
       "      <td>1942-02-14</td>\n",
       "      <td>1942</td>\n",
       "      <td>02</td>\n",
       "      <td>14</td>\n",
       "      <td>水瓶</td>\n",
       "      <td>500</td>\n",
       "    </tr>\n",
       "    <tr>\n",
       "      <th>11</th>\n",
       "      <td>Larry Page</td>\n",
       "      <td>1973-03-26</td>\n",
       "      <td>1973</td>\n",
       "      <td>03</td>\n",
       "      <td>26</td>\n",
       "      <td>白羊</td>\n",
       "      <td>488</td>\n",
       "    </tr>\n",
       "  </tbody>\n",
       "</table>\n",
       "</div>"
      ],
      "text/plain": [
       "                 name    birthday  year month day  星座  财富值（亿美元）\n",
       "0          Jeff Bezos  1964-01-12  1964    01  12  摩羯      1120\n",
       "1          Bill Gates  1955-10-28  1955    10  28  天蝎       900\n",
       "2      Warren Buffett  1930-08-30  1930    08  30  处女       840\n",
       "3     Bernard Arnault  1949-03-05  1949    03  05  双鱼       720\n",
       "4     Mark Zuckerberg  1984-05-14  1984    05  14  金牛       710\n",
       "5      Amancio Ortega  1936-03-28  1936    03  28  白羊       700\n",
       "6    Carlos Slim Helu  1940-01-28  1940    01  28  水瓶       671\n",
       "7        Charles Koch  1935-11-01  1935    11  01  天蝎       600\n",
       "8          David Koch  1940-05-03  1940    05  03  金牛       600\n",
       "9       Larry Ellison  1944-08-17  1944    08  17  狮子       585\n",
       "10  Michael Bloomberg  1942-02-14  1942    02  14  水瓶       500\n",
       "11         Larry Page  1973-03-26  1973    03  26  白羊       488"
      ]
     },
     "execution_count": 12,
     "metadata": {},
     "output_type": "execute_result"
    }
   ],
   "source": [
    "import pandas as pd\n",
    "value = pd.read_csv('pd_namelists.csv',usecols=[4])\n",
    "value.head(12)\n",
    "forbes_value = pd.merge(wholedata, value, left_index=True, right_index=True, how='outer')\n",
    "finaldata_clear = forbes_value.dropna(subset=['name', 'birthday', 'year', 'month','day','财富值（亿美元）'])\n",
    "print(len(finaldata_clear))\n",
    "finaldata_clear"
   ]
  },
  {
   "cell_type": "code",
   "execution_count": 13,
   "metadata": {},
   "outputs": [],
   "source": [
    "finaldata_clear.to_csv('pd_finaldataclear12.csv')"
   ]
  },
  {
   "cell_type": "code",
   "execution_count": null,
   "metadata": {},
   "outputs": [],
   "source": []
  },
  {
   "cell_type": "code",
   "execution_count": 14,
   "metadata": {},
   "outputs": [],
   "source": [
    "#分析部分"
   ]
  },
  {
   "cell_type": "code",
   "execution_count": 17,
   "metadata": {},
   "outputs": [],
   "source": [
    "import matplotlib.pyplot as plt\n",
    "g1_1 = wholedata\n",
    "#g1_1=g1_1.drop(69) #去除無效數據"
   ]
  },
  {
   "cell_type": "code",
   "execution_count": 18,
   "metadata": {},
   "outputs": [
    {
     "name": "stdout",
     "output_type": "stream",
     "text": [
      "12\n"
     ]
    },
    {
     "data": {
      "text/plain": [
       "白羊    2\n",
       "天蝎    2\n",
       "水瓶    2\n",
       "金牛    2\n",
       "狮子    1\n",
       "处女    1\n",
       "双鱼    1\n",
       "摩羯    1\n",
       "Name: 星座, dtype: int64"
      ]
     },
     "execution_count": 18,
     "metadata": {},
     "output_type": "execute_result"
    }
   ],
   "source": [
    "print(len(g1_1))\n",
    "g1_1['星座'].value_counts()"
   ]
  },
  {
   "cell_type": "code",
   "execution_count": 20,
   "metadata": {},
   "outputs": [
    {
     "data": {
      "text/plain": [
       "Text(0.5,1,'福布斯榜各星座比重')"
      ]
     },
     "execution_count": 20,
     "metadata": {},
     "output_type": "execute_result"
    },
    {
     "data": {
      "image/png": "[encoded data removed]",
      "text/plain": [
       "<Figure size 720x432 with 1 Axes>"
      ]
     },
     "metadata": {
      "needs_background": "light"
     },
     "output_type": "display_data"
    }
   ],
   "source": [
    "#plt.rcParams['font.sans-serif']=['SimHei'] #在windows環境下解決matplotlib中文亂碼\n",
    "plt.rcParams['font.sans-serif'] = ['Arial Unicode MS'] #在mac環境下解決matplotlib中文亂碼\n",
    "fig=plt.figure(figsize=(10,6)) \n",
    "g1_1['星座'].value_counts().plot(kind='bar',color='#778899')\n",
    "plt.xlabel('星座',size=13)\n",
    "plt.ylabel('数量',size=13)\n",
    "plt.title('福布斯榜各星座比重',size=15)"
   ]
  },
  {
   "cell_type": "code",
   "execution_count": null,
   "metadata": {},
   "outputs": [],
   "source": [
    "#g1_a=g1_1['星座'].head(48) #取12的整數倍進行分層\n",
    "#print(len(g1_a))\n",
    "#g1_a.value_counts()"
   ]
  },
  {
   "cell_type": "code",
   "execution_count": null,
   "metadata": {},
   "outputs": [],
   "source": [
    "#g1avaluecounts=g1_a.value_counts()\n",
    "#dict1=dict(g1avaluecounts)\n",
    "#dict1['射手'] = '0' \n",
    "#print(dict1)"
   ]
  },
  {
   "cell_type": "code",
   "execution_count": null,
   "metadata": {},
   "outputs": [],
   "source": [
    "#arr = list(dict1.items())\n",
    "#g1_aa = pd.DataFrame(list(dict1.items()), columns=['星座', '数量'])\n",
    "#g1_xzorder=g1_aa[\"星座\"].tolist()\n",
    "#print(g1_xzorder) \n",
    "#g1_aa"
   ]
  },
  {
   "cell_type": "code",
   "execution_count": null,
   "metadata": {},
   "outputs": [],
   "source": [
    "#fig=plt.figure(figsize=(10,6)) \n",
    "#g1_a.value_counts().plot(kind='bar',color='#b0e0e6')\n",
    "#plt.xlabel('星座',size=13)\n",
    "#plt.ylabel('数量',size=13)\n",
    "#plt.title('前四十八名内各星座比重',size=15)"
   ]
  },
  {
   "cell_type": "code",
   "execution_count": null,
   "metadata": {},
   "outputs": [],
   "source": [
    "#g1_b=g1_1['星座'].head(96)\n",
    "#print(len(g1_b))\n",
    "#g1_b.value_counts()"
   ]
  },
  {
   "cell_type": "code",
   "execution_count": null,
   "metadata": {},
   "outputs": [],
   "source": [
    "#fig=plt.figure(figsize=(10,6)) \n",
    "#g1_b.value_counts().plot(kind='bar',color='#ffffff')\n",
    "#g1_b.value_counts().loc[g1_xzorder].plot(kind='bar',color='#b0e0e6')\n",
    "#plt.xlabel('星座',size=13)\n",
    "#plt.ylabel('数量',size=13)\n",
    "#plt.title('前九十六名内各星座比重',size=15)"
   ]
  },
  {
   "cell_type": "code",
   "execution_count": null,
   "metadata": {},
   "outputs": [],
   "source": [
    "#g1_c=g1_1['星座'].head(144) \n",
    "#print(len(g1_c))\n",
    "#g1_c.value_counts()"
   ]
  },
  {
   "cell_type": "code",
   "execution_count": null,
   "metadata": {},
   "outputs": [],
   "source": [
    "#fig=plt.figure(figsize=(10,6)) \n",
    "#g1_c.value_counts().plot(kind='bar',color='#ffffff')\n",
    "#g1_c.value_counts().loc[g1_xzorder].plot(kind='bar',color='#b0e0e6')\n",
    "#plt.xlabel('星座',size=13)\n",
    "#plt.ylabel('数量',size=13)\n",
    "#plt.title('前一百四十四名内各星座比重',size=15)\n",
    "#plt.yticks([0, 1])"
   ]
  },
  {
   "cell_type": "code",
   "execution_count": null,
   "metadata": {},
   "outputs": [],
   "source": [
    "#g1_d=g1_1['星座'].head(192)\n",
    "#print(len(g1_d))\n",
    "#g1_d.value_counts()"
   ]
  },
  {
   "cell_type": "code",
   "execution_count": null,
   "metadata": {},
   "outputs": [],
   "source": [
    "#fig=plt.figure(figsize=(10,6)) \n",
    "#g1_d.value_counts().plot(kind='bar',color='#ffffff')\n",
    "#g1_d.value_counts().loc[g1_xzorder].plot(kind='bar',color='#b0e0e6')\n",
    "#plt.xlabel('星座',size=13)\n",
    "#plt.ylabel('数量',size=13)\n",
    "#plt.title('前一百九十二名内各星座比重',size=15)"
   ]
  },
  {
   "cell_type": "code",
   "execution_count": null,
   "metadata": {},
   "outputs": [],
   "source": [
    "#g1a=g1_a.value_counts()\n",
    "#a_ranking=dict(g1a)\n",
    "#print(a_ranking)\n",
    "#print(len(a_ranking))"
   ]
  },
  {
   "cell_type": "code",
   "execution_count": null,
   "metadata": {},
   "outputs": [],
   "source": [
    "#a_ranking['射手'] = '0' #重新添加g1_a.value_counts()中被過濾掉的0次射手座\n",
    "#print(a_ranking)\n",
    "#print(len(a_ranking))"
   ]
  },
  {
   "cell_type": "code",
   "execution_count": null,
   "metadata": {},
   "outputs": [],
   "source": [
    "#g1b=g1_b.value_counts()\n",
    "#b_ranking=dict(g1b)\n",
    "#print(b_ranking)\n",
    "#print(len(b_ranking))\n",
    "#g1c=g1_c.value_counts()\n",
    "#c_ranking=dict(g1c)\n",
    "#print(c_ranking)\n",
    "#print(len(c_ranking))\n",
    "#g1d=g1_d.value_counts()\n",
    "#d_ranking=dict(g1d)\n",
    "#print(d_ranking)\n",
    "#print(len(d_ranking))"
   ]
  },
  {
   "cell_type": "code",
   "execution_count": null,
   "metadata": {},
   "outputs": [],
   "source": [
    "#from pandas import DataFrame\n",
    "#from pandas.plotting import parallel_coordinates"
   ]
  },
  {
   "cell_type": "code",
   "execution_count": null,
   "metadata": {},
   "outputs": [],
   "source": [
    "#df_g1=DataFrame({'星座':['天秤','水瓶','双鱼','金牛','处女','狮子','白羊','双子','巨蟹','天蝎','摩羯','射手'],'前四十八名':[2,3,3,1,3,2,2,3,4,1,5,6],'前九十六名':[2,5,4,1,7,5,3,4,6,5,8,9],'前一百四十四名':[3,6,1,2,5,4,6,5,6,5,7,8],'前一百九十二名':[1,2,2,2,4,3,4,4,5,6,7,8]})"
   ]
  },
  {
   "cell_type": "code",
   "execution_count": null,
   "metadata": {},
   "outputs": [],
   "source": [
    "#fig=plt.figure(figsize=(12,10)) \n",
    "#plt.ylabel('所占比重在十二星座内的名次',size=15)\n",
    "#parallel_coordinates(df_g1,'星座')\n",
    "#plt.ylim((9, 1))"
   ]
  },
  {
   "cell_type": "code",
   "execution_count": 21,
   "metadata": {},
   "outputs": [
    {
     "name": "stdout",
     "output_type": "stream",
     "text": [
      "12\n"
     ]
    },
    {
     "data": {
      "text/html": [
       "<div>\n",
       "<style scoped>\n",
       "    .dataframe tbody tr th:only-of-type {\n",
       "        vertical-align: middle;\n",
       "    }\n",
       "\n",
       "    .dataframe tbody tr th {\n",
       "        vertical-align: top;\n",
       "    }\n",
       "\n",
       "    .dataframe thead th {\n",
       "        text-align: right;\n",
       "    }\n",
       "</style>\n",
       "<table border=\"1\" class=\"dataframe\">\n",
       "  <thead>\n",
       "    <tr style=\"text-align: right;\">\n",
       "      <th></th>\n",
       "      <th>name</th>\n",
       "      <th>birthday</th>\n",
       "      <th>year</th>\n",
       "      <th>month</th>\n",
       "      <th>day</th>\n",
       "      <th>星座</th>\n",
       "      <th>财富值（亿美元）</th>\n",
       "    </tr>\n",
       "  </thead>\n",
       "  <tbody>\n",
       "    <tr>\n",
       "      <th>0</th>\n",
       "      <td>Jeff Bezos</td>\n",
       "      <td>1964-01-12</td>\n",
       "      <td>1964</td>\n",
       "      <td>01</td>\n",
       "      <td>12</td>\n",
       "      <td>摩羯</td>\n",
       "      <td>1120</td>\n",
       "    </tr>\n",
       "    <tr>\n",
       "      <th>1</th>\n",
       "      <td>Bill Gates</td>\n",
       "      <td>1955-10-28</td>\n",
       "      <td>1955</td>\n",
       "      <td>10</td>\n",
       "      <td>28</td>\n",
       "      <td>天蝎</td>\n",
       "      <td>900</td>\n",
       "    </tr>\n",
       "    <tr>\n",
       "      <th>2</th>\n",
       "      <td>Warren Buffett</td>\n",
       "      <td>1930-08-30</td>\n",
       "      <td>1930</td>\n",
       "      <td>08</td>\n",
       "      <td>30</td>\n",
       "      <td>处女</td>\n",
       "      <td>840</td>\n",
       "    </tr>\n",
       "    <tr>\n",
       "      <th>3</th>\n",
       "      <td>Bernard Arnault</td>\n",
       "      <td>1949-03-05</td>\n",
       "      <td>1949</td>\n",
       "      <td>03</td>\n",
       "      <td>05</td>\n",
       "      <td>双鱼</td>\n",
       "      <td>720</td>\n",
       "    </tr>\n",
       "    <tr>\n",
       "      <th>4</th>\n",
       "      <td>Mark Zuckerberg</td>\n",
       "      <td>1984-05-14</td>\n",
       "      <td>1984</td>\n",
       "      <td>05</td>\n",
       "      <td>14</td>\n",
       "      <td>金牛</td>\n",
       "      <td>710</td>\n",
       "    </tr>\n",
       "    <tr>\n",
       "      <th>5</th>\n",
       "      <td>Amancio Ortega</td>\n",
       "      <td>1936-03-28</td>\n",
       "      <td>1936</td>\n",
       "      <td>03</td>\n",
       "      <td>28</td>\n",
       "      <td>白羊</td>\n",
       "      <td>700</td>\n",
       "    </tr>\n",
       "    <tr>\n",
       "      <th>6</th>\n",
       "      <td>Carlos Slim Helu</td>\n",
       "      <td>1940-01-28</td>\n",
       "      <td>1940</td>\n",
       "      <td>01</td>\n",
       "      <td>28</td>\n",
       "      <td>水瓶</td>\n",
       "      <td>671</td>\n",
       "    </tr>\n",
       "    <tr>\n",
       "      <th>7</th>\n",
       "      <td>Charles Koch</td>\n",
       "      <td>1935-11-01</td>\n",
       "      <td>1935</td>\n",
       "      <td>11</td>\n",
       "      <td>01</td>\n",
       "      <td>天蝎</td>\n",
       "      <td>600</td>\n",
       "    </tr>\n",
       "    <tr>\n",
       "      <th>8</th>\n",
       "      <td>David Koch</td>\n",
       "      <td>1940-05-03</td>\n",
       "      <td>1940</td>\n",
       "      <td>05</td>\n",
       "      <td>03</td>\n",
       "      <td>金牛</td>\n",
       "      <td>600</td>\n",
       "    </tr>\n",
       "    <tr>\n",
       "      <th>9</th>\n",
       "      <td>Larry Ellison</td>\n",
       "      <td>1944-08-17</td>\n",
       "      <td>1944</td>\n",
       "      <td>08</td>\n",
       "      <td>17</td>\n",
       "      <td>狮子</td>\n",
       "      <td>585</td>\n",
       "    </tr>\n",
       "    <tr>\n",
       "      <th>10</th>\n",
       "      <td>Michael Bloomberg</td>\n",
       "      <td>1942-02-14</td>\n",
       "      <td>1942</td>\n",
       "      <td>02</td>\n",
       "      <td>14</td>\n",
       "      <td>水瓶</td>\n",
       "      <td>500</td>\n",
       "    </tr>\n",
       "    <tr>\n",
       "      <th>11</th>\n",
       "      <td>Larry Page</td>\n",
       "      <td>1973-03-26</td>\n",
       "      <td>1973</td>\n",
       "      <td>03</td>\n",
       "      <td>26</td>\n",
       "      <td>白羊</td>\n",
       "      <td>488</td>\n",
       "    </tr>\n",
       "  </tbody>\n",
       "</table>\n",
       "</div>"
      ],
      "text/plain": [
       "                 name    birthday  year month day  星座  财富值（亿美元）\n",
       "0          Jeff Bezos  1964-01-12  1964    01  12  摩羯      1120\n",
       "1          Bill Gates  1955-10-28  1955    10  28  天蝎       900\n",
       "2      Warren Buffett  1930-08-30  1930    08  30  处女       840\n",
       "3     Bernard Arnault  1949-03-05  1949    03  05  双鱼       720\n",
       "4     Mark Zuckerberg  1984-05-14  1984    05  14  金牛       710\n",
       "5      Amancio Ortega  1936-03-28  1936    03  28  白羊       700\n",
       "6    Carlos Slim Helu  1940-01-28  1940    01  28  水瓶       671\n",
       "7        Charles Koch  1935-11-01  1935    11  01  天蝎       600\n",
       "8          David Koch  1940-05-03  1940    05  03  金牛       600\n",
       "9       Larry Ellison  1944-08-17  1944    08  17  狮子       585\n",
       "10  Michael Bloomberg  1942-02-14  1942    02  14  水瓶       500\n",
       "11         Larry Page  1973-03-26  1973    03  26  白羊       488"
      ]
     },
     "execution_count": 21,
     "metadata": {},
     "output_type": "execute_result"
    }
   ],
   "source": [
    "value = pd.read_csv('pd_namelists.csv',usecols=[4])\n",
    "value.head(12)\n",
    "forbes_value = pd.merge(wholedata, value, left_index=True, right_index=True, how='outer')\n",
    "finaldata_clear = forbes_value.dropna(subset=['name', 'birthday', 'year', 'month','day','财富值（亿美元）'])\n",
    "print(len(finaldata_clear))\n",
    "finaldata_clear"
   ]
  },
  {
   "cell_type": "code",
   "execution_count": 22,
   "metadata": {},
   "outputs": [
    {
     "data": {
      "text/html": [
       "<div>\n",
       "<style scoped>\n",
       "    .dataframe tbody tr th:only-of-type {\n",
       "        vertical-align: middle;\n",
       "    }\n",
       "\n",
       "    .dataframe tbody tr th {\n",
       "        vertical-align: top;\n",
       "    }\n",
       "\n",
       "    .dataframe thead th {\n",
       "        text-align: right;\n",
       "    }\n",
       "</style>\n",
       "<table border=\"1\" class=\"dataframe\">\n",
       "  <thead>\n",
       "    <tr style=\"text-align: right;\">\n",
       "      <th></th>\n",
       "      <th>星座</th>\n",
       "      <th>财富值（亿美元）</th>\n",
       "    </tr>\n",
       "  </thead>\n",
       "  <tbody>\n",
       "    <tr>\n",
       "      <th>0</th>\n",
       "      <td>摩羯</td>\n",
       "      <td>1120</td>\n",
       "    </tr>\n",
       "    <tr>\n",
       "      <th>1</th>\n",
       "      <td>天蝎</td>\n",
       "      <td>900</td>\n",
       "    </tr>\n",
       "    <tr>\n",
       "      <th>2</th>\n",
       "      <td>处女</td>\n",
       "      <td>840</td>\n",
       "    </tr>\n",
       "    <tr>\n",
       "      <th>3</th>\n",
       "      <td>双鱼</td>\n",
       "      <td>720</td>\n",
       "    </tr>\n",
       "    <tr>\n",
       "      <th>4</th>\n",
       "      <td>金牛</td>\n",
       "      <td>710</td>\n",
       "    </tr>\n",
       "    <tr>\n",
       "      <th>5</th>\n",
       "      <td>白羊</td>\n",
       "      <td>700</td>\n",
       "    </tr>\n",
       "    <tr>\n",
       "      <th>6</th>\n",
       "      <td>水瓶</td>\n",
       "      <td>671</td>\n",
       "    </tr>\n",
       "    <tr>\n",
       "      <th>7</th>\n",
       "      <td>天蝎</td>\n",
       "      <td>600</td>\n",
       "    </tr>\n",
       "    <tr>\n",
       "      <th>8</th>\n",
       "      <td>金牛</td>\n",
       "      <td>600</td>\n",
       "    </tr>\n",
       "    <tr>\n",
       "      <th>9</th>\n",
       "      <td>狮子</td>\n",
       "      <td>585</td>\n",
       "    </tr>\n",
       "    <tr>\n",
       "      <th>10</th>\n",
       "      <td>水瓶</td>\n",
       "      <td>500</td>\n",
       "    </tr>\n",
       "    <tr>\n",
       "      <th>11</th>\n",
       "      <td>白羊</td>\n",
       "      <td>488</td>\n",
       "    </tr>\n",
       "  </tbody>\n",
       "</table>\n",
       "</div>"
      ],
      "text/plain": [
       "    星座  财富值（亿美元）\n",
       "0   摩羯      1120\n",
       "1   天蝎       900\n",
       "2   处女       840\n",
       "3   双鱼       720\n",
       "4   金牛       710\n",
       "5   白羊       700\n",
       "6   水瓶       671\n",
       "7   天蝎       600\n",
       "8   金牛       600\n",
       "9   狮子       585\n",
       "10  水瓶       500\n",
       "11  白羊       488"
      ]
     },
     "execution_count": 22,
     "metadata": {},
     "output_type": "execute_result"
    }
   ],
   "source": [
    "valueclear=finaldata_clear['财富值（亿美元）']\n",
    "value1=DataFrame(valueclear)\n",
    "value2=value1.reset_index(drop=True)\n",
    "value_xz=pd.merge(xzlistdata, value2, left_index=True, right_index=True, how='outer')\n",
    "value_xz"
   ]
  },
  {
   "cell_type": "code",
   "execution_count": 23,
   "metadata": {},
   "outputs": [],
   "source": [
    "grouped = value_xz['财富值（亿美元）'].groupby(value_xz['星座'])\n",
    "sumvalue=DataFrame(grouped.sum())"
   ]
  },
  {
   "cell_type": "code",
   "execution_count": 24,
   "metadata": {},
   "outputs": [],
   "source": [
    "sumvalue.to_csv('pd_sumvalue12.csv')"
   ]
  },
  {
   "cell_type": "code",
   "execution_count": 25,
   "metadata": {},
   "outputs": [
    {
     "data": {
      "text/html": [
       "<div>\n",
       "<style scoped>\n",
       "    .dataframe tbody tr th:only-of-type {\n",
       "        vertical-align: middle;\n",
       "    }\n",
       "\n",
       "    .dataframe tbody tr th {\n",
       "        vertical-align: top;\n",
       "    }\n",
       "\n",
       "    .dataframe thead th {\n",
       "        text-align: right;\n",
       "    }\n",
       "</style>\n",
       "<table border=\"1\" class=\"dataframe\">\n",
       "  <thead>\n",
       "    <tr style=\"text-align: right;\">\n",
       "      <th></th>\n",
       "      <th>星座</th>\n",
       "      <th>财富值（亿美元）</th>\n",
       "    </tr>\n",
       "  </thead>\n",
       "  <tbody>\n",
       "    <tr>\n",
       "      <th>2</th>\n",
       "      <td>天蝎</td>\n",
       "      <td>1500</td>\n",
       "    </tr>\n",
       "    <tr>\n",
       "      <th>7</th>\n",
       "      <td>金牛</td>\n",
       "      <td>1310</td>\n",
       "    </tr>\n",
       "    <tr>\n",
       "      <th>6</th>\n",
       "      <td>白羊</td>\n",
       "      <td>1188</td>\n",
       "    </tr>\n",
       "    <tr>\n",
       "      <th>4</th>\n",
       "      <td>水瓶</td>\n",
       "      <td>1171</td>\n",
       "    </tr>\n",
       "    <tr>\n",
       "      <th>3</th>\n",
       "      <td>摩羯</td>\n",
       "      <td>1120</td>\n",
       "    </tr>\n",
       "    <tr>\n",
       "      <th>1</th>\n",
       "      <td>处女</td>\n",
       "      <td>840</td>\n",
       "    </tr>\n",
       "    <tr>\n",
       "      <th>0</th>\n",
       "      <td>双鱼</td>\n",
       "      <td>720</td>\n",
       "    </tr>\n",
       "    <tr>\n",
       "      <th>5</th>\n",
       "      <td>狮子</td>\n",
       "      <td>585</td>\n",
       "    </tr>\n",
       "  </tbody>\n",
       "</table>\n",
       "</div>"
      ],
      "text/plain": [
       "   星座  财富值（亿美元）\n",
       "2  天蝎      1500\n",
       "7  金牛      1310\n",
       "6  白羊      1188\n",
       "4  水瓶      1171\n",
       "3  摩羯      1120\n",
       "1  处女       840\n",
       "0  双鱼       720\n",
       "5  狮子       585"
      ]
     },
     "execution_count": 25,
     "metadata": {},
     "output_type": "execute_result"
    }
   ],
   "source": [
    "sumvalue1 = pd.read_csv('pd_sumvalue12.csv')\n",
    "sumvalue2 = sumvalue1.sort_values(by=\"财富值（亿美元）\", ascending=False)\n",
    "sumvalue2"
   ]
  },
  {
   "cell_type": "code",
   "execution_count": 104,
   "metadata": {},
   "outputs": [],
   "source": [
    "import matplotlib.pyplot as plt\n",
    "import squarify"
   ]
  },
  {
   "cell_type": "code",
   "execution_count": 108,
   "metadata": {
    "scrolled": true
   },
   "outputs": [
    {
     "data": {
      "image/png": "[encoded data removed]",
      "text/plain": [
       "<Figure size 864x720 with 1 Axes>"
      ]
     },
     "metadata": {},
     "output_type": "display_data"
    }
   ],
   "source": [
    "fig=plt.figure(figsize=(12,10))\n",
    "squarify.plot(sizes=sumvalue2['财富值（亿美元）'], label=sumvalue2['星座'], alpha=.7 )\n",
    "plt.axis('off')\n",
    "plt.rcParams['font.sans-serif']=['SimHei']\n",
    "plt.show()"
   ]
  },
  {
   "cell_type": "code",
   "execution_count": null,
   "metadata": {},
   "outputs": [],
   "source": []
  }
 ],
 "metadata": {
  "kernelspec": {
   "display_name": "Python 3",
   "language": "python",
   "name": "python3"
  },
  "language_info": {
   "codemirror_mode": {
    "name": "ipython",
    "version": 3
   },
   "file_extension": ".py",
   "mimetype": "text/x-python",
   "name": "python",
   "nbconvert_exporter": "python",
   "pygments_lexer": "ipython3",
   "version": "3.7.0"
  }
 },
 "nbformat": 4,
 "nbformat_minor": 2
}
